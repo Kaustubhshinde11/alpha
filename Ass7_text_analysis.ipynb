{
  "cells": [
    {
      "cell_type": "code",
      "execution_count": 1,
      "id": "a7d238fa-4535-4f30-bc36-642eb256ee9b",
      "metadata": {
        "id": "a7d238fa-4535-4f30-bc36-642eb256ee9b"
      },
      "outputs": [],
      "source": [
        "from textblob import TextBlob"
      ]
    },
    {
      "cell_type": "code",
      "execution_count": 5,
      "id": "e19429a5-9bf7-4c93-9c8b-b2fe1eede5bb",
      "metadata": {
        "colab": {
          "base_uri": "https://localhost:8080/"
        },
        "id": "e19429a5-9bf7-4c93-9c8b-b2fe1eede5bb",
        "outputId": "07239bf7-1aea-4b36-8c8d-9a3c1e88802b"
      },
      "outputs": [
        {
          "output_type": "stream",
          "name": "stderr",
          "text": [
            "[nltk_data] Downloading package punkt to /root/nltk_data...\n",
            "[nltk_data]   Unzipping tokenizers/punkt.zip.\n"
          ]
        },
        {
          "output_type": "execute_result",
          "data": {
            "text/plain": [
              "True"
            ]
          },
          "metadata": {},
          "execution_count": 5
        }
      ],
      "source": [
        "import nltk\n",
        "nltk.download(\"punkt\")"
      ]
    },
    {
      "cell_type": "code",
      "execution_count": 6,
      "id": "b8be2f6d-8fdc-4aad-b600-affa6e517647",
      "metadata": {
        "id": "b8be2f6d-8fdc-4aad-b600-affa6e517647"
      },
      "outputs": [],
      "source": [
        "b1 = TextBlob(\"Hey! How are you\")"
      ]
    },
    {
      "cell_type": "code",
      "execution_count": 7,
      "id": "a823bc5a-fab5-4122-abf1-38bfabcbc530",
      "metadata": {
        "colab": {
          "base_uri": "https://localhost:8080/"
        },
        "id": "a823bc5a-fab5-4122-abf1-38bfabcbc530",
        "outputId": "abcb2345-8fe6-426f-a156-6852e1e39c0e"
      },
      "outputs": [
        {
          "output_type": "execute_result",
          "data": {
            "text/plain": [
              "WordList(['Hey', 'How', 'are', 'you'])"
            ]
          },
          "metadata": {},
          "execution_count": 7
        }
      ],
      "source": [
        "b1.words"
      ]
    },
    {
      "cell_type": "code",
      "execution_count": 8,
      "id": "4e4567dd-b0db-4c43-be73-c61e0885bec7",
      "metadata": {
        "colab": {
          "base_uri": "https://localhost:8080/"
        },
        "id": "4e4567dd-b0db-4c43-be73-c61e0885bec7",
        "outputId": "817bd958-177c-4157-ffc4-33c1d356625e"
      },
      "outputs": [
        {
          "output_type": "execute_result",
          "data": {
            "text/plain": [
              "[Sentence(\"Hey!\"), Sentence(\"How are you\")]"
            ]
          },
          "metadata": {},
          "execution_count": 8
        }
      ],
      "source": [
        "b1.sentences"
      ]
    },
    {
      "cell_type": "code",
      "execution_count": 9,
      "id": "20dca98c-7a3d-4af5-9af0-2cd4ef0e07ef",
      "metadata": {
        "colab": {
          "base_uri": "https://localhost:8080/",
          "height": 35
        },
        "id": "20dca98c-7a3d-4af5-9af0-2cd4ef0e07ef",
        "outputId": "138b4a22-a961-4c92-d0db-6d42c2a3c256"
      },
      "outputs": [
        {
          "output_type": "execute_result",
          "data": {
            "text/plain": [
              "'are'"
            ],
            "application/vnd.google.colaboratory.intrinsic+json": {
              "type": "string"
            }
          },
          "metadata": {},
          "execution_count": 9
        }
      ],
      "source": [
        "b1.words[2]"
      ]
    },
    {
      "cell_type": "code",
      "execution_count": 10,
      "id": "e152c044-5c77-48cf-a76a-7efc829669de",
      "metadata": {
        "colab": {
          "base_uri": "https://localhost:8080/",
          "height": 35
        },
        "id": "e152c044-5c77-48cf-a76a-7efc829669de",
        "outputId": "8b5eec48-6b4c-4c44-f411-6abed1271137"
      },
      "outputs": [
        {
          "output_type": "execute_result",
          "data": {
            "text/plain": [
              "'are'"
            ],
            "application/vnd.google.colaboratory.intrinsic+json": {
              "type": "string"
            }
          },
          "metadata": {},
          "execution_count": 10
        }
      ],
      "source": [
        "b1.words[2].singularize()"
      ]
    },
    {
      "cell_type": "code",
      "execution_count": 11,
      "id": "db68135f-13a6-4736-af70-93bea43e4918",
      "metadata": {
        "colab": {
          "base_uri": "https://localhost:8080/"
        },
        "id": "db68135f-13a6-4736-af70-93bea43e4918",
        "outputId": "5cb79f00-154e-408d-a47c-f9718d8801a7"
      },
      "outputs": [
        {
          "output_type": "execute_result",
          "data": {
            "text/plain": [
              "TextBlob(\"HEY! HOW ARE YOU\")"
            ]
          },
          "metadata": {},
          "execution_count": 11
        }
      ],
      "source": [
        "b1.upper()"
      ]
    },
    {
      "cell_type": "code",
      "execution_count": 12,
      "id": "9ae2e8ae-3057-451a-af77-c9f844b7bb73",
      "metadata": {
        "colab": {
          "base_uri": "https://localhost:8080/"
        },
        "id": "9ae2e8ae-3057-451a-af77-c9f844b7bb73",
        "outputId": "1ecbbb07-f467-4ff4-eb92-f38f146b9784"
      },
      "outputs": [
        {
          "output_type": "execute_result",
          "data": {
            "text/plain": [
              "TextBlob(\"hey! how are you\")"
            ]
          },
          "metadata": {},
          "execution_count": 12
        }
      ],
      "source": [
        "b1.lower()"
      ]
    },
    {
      "cell_type": "code",
      "execution_count": 13,
      "id": "bd0fe830-3407-492c-b214-430683ceb380",
      "metadata": {
        "colab": {
          "base_uri": "https://localhost:8080/"
        },
        "id": "bd0fe830-3407-492c-b214-430683ceb380",
        "outputId": "2905b0e4-7c04-44dc-d9c9-45d8cb4d9cd0"
      },
      "outputs": [
        {
          "output_type": "execute_result",
          "data": {
            "text/plain": [
              "9"
            ]
          },
          "metadata": {},
          "execution_count": 13
        }
      ],
      "source": [
        "b1.find(\"are\")"
      ]
    },
    {
      "cell_type": "code",
      "execution_count": 14,
      "id": "2cf70c4e-22ec-472b-9a54-220a44d106d9",
      "metadata": {
        "colab": {
          "base_uri": "https://localhost:8080/"
        },
        "id": "2cf70c4e-22ec-472b-9a54-220a44d106d9",
        "outputId": "5d83ae79-43ba-4d33-a064-5ee93820ee43"
      },
      "outputs": [
        {
          "output_type": "stream",
          "name": "stdout",
          "text": [
            "y\n"
          ]
        }
      ],
      "source": [
        "print(b1[2:3])"
      ]
    },
    {
      "cell_type": "code",
      "execution_count": 15,
      "id": "1fd20196-1730-48a3-8300-ba036a99133d",
      "metadata": {
        "colab": {
          "base_uri": "https://localhost:8080/"
        },
        "id": "1fd20196-1730-48a3-8300-ba036a99133d",
        "outputId": "3a321b8e-011c-4cbb-fdf5-6b3e693cc5ec"
      },
      "outputs": [
        {
          "output_type": "execute_result",
          "data": {
            "text/plain": [
              "1"
            ]
          },
          "metadata": {},
          "execution_count": 15
        }
      ],
      "source": [
        "b1.words.count(\"are\")"
      ]
    },
    {
      "cell_type": "code",
      "execution_count": 16,
      "id": "8d21e07b-5002-4ea7-9c82-d86d32eb8aed",
      "metadata": {
        "colab": {
          "base_uri": "https://localhost:8080/"
        },
        "id": "8d21e07b-5002-4ea7-9c82-d86d32eb8aed",
        "outputId": "f2dc9a50-5fd6-4f5f-ef48-c83414b636cf"
      },
      "outputs": [
        {
          "output_type": "stream",
          "name": "stdout",
          "text": [
            "Hey/UH/O/O !/./O/O\n",
            "How/WRB/B-ADVP/O are/VBP/B-VP/O you/PRP/B-NP/O\n"
          ]
        }
      ],
      "source": [
        "print(b1.parse())"
      ]
    },
    {
      "cell_type": "code",
      "execution_count": 17,
      "id": "eef78d91-068c-4fe6-b983-35fad14ded4d",
      "metadata": {
        "colab": {
          "base_uri": "https://localhost:8080/"
        },
        "id": "eef78d91-068c-4fe6-b983-35fad14ded4d",
        "outputId": "b3ee7b28-d5d3-4eab-b9e7-59e3d32c9ab5"
      },
      "outputs": [
        {
          "output_type": "execute_result",
          "data": {
            "text/plain": [
              "True"
            ]
          },
          "metadata": {},
          "execution_count": 17
        }
      ],
      "source": [
        "b2 = TextBlob(\"Handsome\")\n",
        "b3 = TextBlob(\"Dashing\")\n",
        "b2 > b3"
      ]
    },
    {
      "cell_type": "code",
      "execution_count": 18,
      "id": "cd1ae2d5-b8c5-4253-bf9f-6a5916964689",
      "metadata": {
        "colab": {
          "base_uri": "https://localhost:8080/"
        },
        "id": "cd1ae2d5-b8c5-4253-bf9f-6a5916964689",
        "outputId": "cde8d34a-565f-46da-bc37-f7855e0cce31"
      },
      "outputs": [
        {
          "output_type": "execute_result",
          "data": {
            "text/plain": [
              "['Oh', 'mann', 'how', 'you', 'are', 'here']"
            ]
          },
          "metadata": {},
          "execution_count": 18
        }
      ],
      "source": [
        "b4 = \"Oh mann how you are here\"\n",
        "from nltk.tokenize import word_tokenize\n",
        "tokens = nltk.word_tokenize(b4)\n",
        "tokens"
      ]
    },
    {
      "cell_type": "code",
      "source": [
        "nltk.download(\"stopwords\")"
      ],
      "metadata": {
        "colab": {
          "base_uri": "https://localhost:8080/"
        },
        "id": "BDKteZU1lmZ8",
        "outputId": "f2e90f91-8028-41c6-f660-e0a9f305c7b9"
      },
      "id": "BDKteZU1lmZ8",
      "execution_count": 21,
      "outputs": [
        {
          "output_type": "stream",
          "name": "stderr",
          "text": [
            "[nltk_data] Downloading package stopwords to /root/nltk_data...\n",
            "[nltk_data]   Unzipping corpora/stopwords.zip.\n"
          ]
        },
        {
          "output_type": "execute_result",
          "data": {
            "text/plain": [
              "True"
            ]
          },
          "metadata": {},
          "execution_count": 21
        }
      ]
    },
    {
      "cell_type": "code",
      "execution_count": 22,
      "id": "45c320e0-ba16-41ee-9a65-04fe11c4c84d",
      "metadata": {
        "id": "45c320e0-ba16-41ee-9a65-04fe11c4c84d"
      },
      "outputs": [],
      "source": [
        "from nltk.corpus import stopwords"
      ]
    },
    {
      "cell_type": "code",
      "execution_count": 25,
      "id": "354b74d5-b6a8-4828-94b1-e78f39dedf9e",
      "metadata": {
        "id": "354b74d5-b6a8-4828-94b1-e78f39dedf9e"
      },
      "outputs": [],
      "source": [
        "stop_word = stopwords.words(\"english\")"
      ]
    },
    {
      "cell_type": "code",
      "execution_count": null,
      "id": "7a78c285-6317-4f1e-ae48-11726e21e256",
      "metadata": {
        "id": "7a78c285-6317-4f1e-ae48-11726e21e256",
        "outputId": "ef31317e-b3a3-409e-fd39-388373eafa8b"
      },
      "outputs": [
        {
          "data": {
            "text/plain": [
              "['i',\n",
              " 'me',\n",
              " 'my',\n",
              " 'myself',\n",
              " 'we',\n",
              " 'our',\n",
              " 'ours',\n",
              " 'ourselves',\n",
              " 'you',\n",
              " \"you're\",\n",
              " \"you've\",\n",
              " \"you'll\",\n",
              " \"you'd\",\n",
              " 'your',\n",
              " 'yours',\n",
              " 'yourself',\n",
              " 'yourselves',\n",
              " 'he',\n",
              " 'him',\n",
              " 'his',\n",
              " 'himself',\n",
              " 'she',\n",
              " \"she's\",\n",
              " 'her',\n",
              " 'hers',\n",
              " 'herself',\n",
              " 'it',\n",
              " \"it's\",\n",
              " 'its',\n",
              " 'itself',\n",
              " 'they',\n",
              " 'them',\n",
              " 'their',\n",
              " 'theirs',\n",
              " 'themselves',\n",
              " 'what',\n",
              " 'which',\n",
              " 'who',\n",
              " 'whom',\n",
              " 'this',\n",
              " 'that',\n",
              " \"that'll\",\n",
              " 'these',\n",
              " 'those',\n",
              " 'am',\n",
              " 'is',\n",
              " 'are',\n",
              " 'was',\n",
              " 'were',\n",
              " 'be',\n",
              " 'been',\n",
              " 'being',\n",
              " 'have',\n",
              " 'has',\n",
              " 'had',\n",
              " 'having',\n",
              " 'do',\n",
              " 'does',\n",
              " 'did',\n",
              " 'doing',\n",
              " 'a',\n",
              " 'an',\n",
              " 'the',\n",
              " 'and',\n",
              " 'but',\n",
              " 'if',\n",
              " 'or',\n",
              " 'because',\n",
              " 'as',\n",
              " 'until',\n",
              " 'while',\n",
              " 'of',\n",
              " 'at',\n",
              " 'by',\n",
              " 'for',\n",
              " 'with',\n",
              " 'about',\n",
              " 'against',\n",
              " 'between',\n",
              " 'into',\n",
              " 'through',\n",
              " 'during',\n",
              " 'before',\n",
              " 'after',\n",
              " 'above',\n",
              " 'below',\n",
              " 'to',\n",
              " 'from',\n",
              " 'up',\n",
              " 'down',\n",
              " 'in',\n",
              " 'out',\n",
              " 'on',\n",
              " 'off',\n",
              " 'over',\n",
              " 'under',\n",
              " 'again',\n",
              " 'further',\n",
              " 'then',\n",
              " 'once',\n",
              " 'here',\n",
              " 'there',\n",
              " 'when',\n",
              " 'where',\n",
              " 'why',\n",
              " 'how',\n",
              " 'all',\n",
              " 'any',\n",
              " 'both',\n",
              " 'each',\n",
              " 'few',\n",
              " 'more',\n",
              " 'most',\n",
              " 'other',\n",
              " 'some',\n",
              " 'such',\n",
              " 'no',\n",
              " 'nor',\n",
              " 'not',\n",
              " 'only',\n",
              " 'own',\n",
              " 'same',\n",
              " 'so',\n",
              " 'than',\n",
              " 'too',\n",
              " 'very',\n",
              " 's',\n",
              " 't',\n",
              " 'can',\n",
              " 'will',\n",
              " 'just',\n",
              " 'don',\n",
              " \"don't\",\n",
              " 'should',\n",
              " \"should've\",\n",
              " 'now',\n",
              " 'd',\n",
              " 'll',\n",
              " 'm',\n",
              " 'o',\n",
              " 're',\n",
              " 've',\n",
              " 'y',\n",
              " 'ain',\n",
              " 'aren',\n",
              " \"aren't\",\n",
              " 'couldn',\n",
              " \"couldn't\",\n",
              " 'didn',\n",
              " \"didn't\",\n",
              " 'doesn',\n",
              " \"doesn't\",\n",
              " 'hadn',\n",
              " \"hadn't\",\n",
              " 'hasn',\n",
              " \"hasn't\",\n",
              " 'haven',\n",
              " \"haven't\",\n",
              " 'isn',\n",
              " \"isn't\",\n",
              " 'ma',\n",
              " 'mightn',\n",
              " \"mightn't\",\n",
              " 'mustn',\n",
              " \"mustn't\",\n",
              " 'needn',\n",
              " \"needn't\",\n",
              " 'shan',\n",
              " \"shan't\",\n",
              " 'shouldn',\n",
              " \"shouldn't\",\n",
              " 'wasn',\n",
              " \"wasn't\",\n",
              " 'weren',\n",
              " \"weren't\",\n",
              " 'won',\n",
              " \"won't\",\n",
              " 'wouldn',\n",
              " \"wouldn't\"]"
            ]
          },
          "execution_count": 49,
          "metadata": {},
          "output_type": "execute_result"
        }
      ],
      "source": [
        "stop_word"
      ]
    },
    {
      "cell_type": "code",
      "execution_count": 26,
      "id": "415f2c3d-8f79-4a71-a894-9221981b160f",
      "metadata": {
        "id": "415f2c3d-8f79-4a71-a894-9221981b160f"
      },
      "outputs": [],
      "source": [
        "text = \"Yes I knowing you are my friend but this is going be serious about I and you\""
      ]
    },
    {
      "cell_type": "code",
      "execution_count": 27,
      "id": "b60820ef-ea48-459a-b7db-a57b19840ce5",
      "metadata": {
        "id": "b60820ef-ea48-459a-b7db-a57b19840ce5"
      },
      "outputs": [],
      "source": [
        "tokens = nltk.word_tokenize(text)"
      ]
    },
    {
      "cell_type": "code",
      "execution_count": 28,
      "id": "35be7083-95d4-4b50-b6ba-6ba5d7b1875c",
      "metadata": {
        "id": "35be7083-95d4-4b50-b6ba-6ba5d7b1875c"
      },
      "outputs": [],
      "source": [
        "filtered = []"
      ]
    },
    {
      "cell_type": "code",
      "execution_count": 29,
      "id": "200e9b71-2378-47b1-963b-d794f9d399a0",
      "metadata": {
        "id": "200e9b71-2378-47b1-963b-d794f9d399a0"
      },
      "outputs": [],
      "source": [
        "for w in tokens:\n",
        "    if w not in stop_word:\n",
        "        filtered.append(w)"
      ]
    },
    {
      "cell_type": "code",
      "execution_count": 30,
      "id": "e8c0116e-5ffa-4106-8900-1860a743e1d8",
      "metadata": {
        "colab": {
          "base_uri": "https://localhost:8080/"
        },
        "id": "e8c0116e-5ffa-4106-8900-1860a743e1d8",
        "outputId": "7f88b4f3-18e8-4dcb-8fcd-01797bd35154"
      },
      "outputs": [
        {
          "output_type": "stream",
          "name": "stdout",
          "text": [
            "['Yes', 'I', 'knowing', 'friend', 'going', 'serious', 'I']\n"
          ]
        }
      ],
      "source": [
        "print(filtered)"
      ]
    },
    {
      "cell_type": "code",
      "execution_count": 31,
      "id": "e8147254-7f70-4d81-ad07-e17971f6430e",
      "metadata": {
        "id": "e8147254-7f70-4d81-ad07-e17971f6430e"
      },
      "outputs": [],
      "source": [
        "from nltk import PorterStemmer\n",
        "ps = PorterStemmer()\n",
        "stemmed_words = []\n",
        "for w in filtered:\n",
        "    stemmed_words.append(ps.stem(w))"
      ]
    },
    {
      "cell_type": "code",
      "execution_count": 32,
      "id": "ffcf027f-c13d-432e-ba5f-707948887740",
      "metadata": {
        "colab": {
          "base_uri": "https://localhost:8080/"
        },
        "id": "ffcf027f-c13d-432e-ba5f-707948887740",
        "outputId": "fdca5c3b-6d8f-4218-d220-30a0cdac367a"
      },
      "outputs": [
        {
          "output_type": "execute_result",
          "data": {
            "text/plain": [
              "['ye', 'i', 'know', 'friend', 'go', 'seriou', 'i']"
            ]
          },
          "metadata": {},
          "execution_count": 32
        }
      ],
      "source": [
        " stemmed_words"
      ]
    },
    {
      "cell_type": "code",
      "execution_count": 33,
      "id": "2bb195f9-15e5-4c6c-b98d-38fa0eed5827",
      "metadata": {
        "colab": {
          "base_uri": "https://localhost:8080/"
        },
        "id": "2bb195f9-15e5-4c6c-b98d-38fa0eed5827",
        "outputId": "2df8b08b-6bf2-4b78-9bdb-afc759718776"
      },
      "outputs": [
        {
          "output_type": "stream",
          "name": "stderr",
          "text": [
            "[nltk_data] Downloading package wordnet to /root/nltk_data...\n"
          ]
        },
        {
          "output_type": "execute_result",
          "data": {
            "text/plain": [
              "True"
            ]
          },
          "metadata": {},
          "execution_count": 33
        }
      ],
      "source": [
        "nltk.download(\"wordnet\")"
      ]
    },
    {
      "cell_type": "code",
      "execution_count": 34,
      "id": "d814772b-0a0c-428c-95eb-f311cf88d531",
      "metadata": {
        "id": "d814772b-0a0c-428c-95eb-f311cf88d531"
      },
      "outputs": [],
      "source": [
        "from nltk import WordNetLemmatizer\n",
        "lm = WordNetLemmatizer()\n",
        "lemat = []\n",
        "for w in filtered:\n",
        "    lemat.append(lm.lemmatize(w, 'v'))"
      ]
    },
    {
      "cell_type": "code",
      "execution_count": 35,
      "id": "6879d6c7-a439-40a2-8822-5ddea86b84ce",
      "metadata": {
        "colab": {
          "base_uri": "https://localhost:8080/"
        },
        "id": "6879d6c7-a439-40a2-8822-5ddea86b84ce",
        "outputId": "7661bb8b-fdbc-4166-9321-eebbeaa45cdb"
      },
      "outputs": [
        {
          "output_type": "execute_result",
          "data": {
            "text/plain": [
              "['Yes', 'I', 'know', 'friend', 'go', 'serious', 'I']"
            ]
          },
          "metadata": {},
          "execution_count": 35
        }
      ],
      "source": [
        "lemat"
      ]
    },
    {
      "cell_type": "code",
      "execution_count": 36,
      "id": "c8b8ac12-53ab-4b27-af8e-2576f6d22857",
      "metadata": {
        "id": "c8b8ac12-53ab-4b27-af8e-2576f6d22857"
      },
      "outputs": [],
      "source": [
        "from collections import Counter"
      ]
    },
    {
      "cell_type": "code",
      "execution_count": 37,
      "id": "2299445e-5909-4f6e-9ded-01be00ae2096",
      "metadata": {
        "id": "2299445e-5909-4f6e-9ded-01be00ae2096"
      },
      "outputs": [],
      "source": [
        "counts = Counter(text.split())"
      ]
    },
    {
      "cell_type": "code",
      "execution_count": 38,
      "id": "645e1385-3e92-417a-8449-c24660c7bce2",
      "metadata": {
        "colab": {
          "base_uri": "https://localhost:8080/"
        },
        "id": "645e1385-3e92-417a-8449-c24660c7bce2",
        "outputId": "92a8ff15-ca6d-4d02-ca65-7922b4017228"
      },
      "outputs": [
        {
          "output_type": "execute_result",
          "data": {
            "text/plain": [
              "Counter({'Yes': 1,\n",
              "         'I': 2,\n",
              "         'knowing': 1,\n",
              "         'you': 2,\n",
              "         'are': 1,\n",
              "         'my': 1,\n",
              "         'friend': 1,\n",
              "         'but': 1,\n",
              "         'this': 1,\n",
              "         'is': 1,\n",
              "         'going': 1,\n",
              "         'be': 1,\n",
              "         'serious': 1,\n",
              "         'about': 1,\n",
              "         'and': 1})"
            ]
          },
          "metadata": {},
          "execution_count": 38
        }
      ],
      "source": [
        "counts"
      ]
    },
    {
      "cell_type": "code",
      "execution_count": null,
      "id": "f379313e-bbb2-4ef2-9095-e3a8bda7d847",
      "metadata": {
        "id": "f379313e-bbb2-4ef2-9095-e3a8bda7d847"
      },
      "outputs": [],
      "source": []
    },
    {
      "cell_type": "code",
      "execution_count": null,
      "id": "fda0692d-6b0a-4cce-8a1c-597cf76cad3e",
      "metadata": {
        "id": "fda0692d-6b0a-4cce-8a1c-597cf76cad3e"
      },
      "outputs": [],
      "source": []
    },
    {
      "cell_type": "code",
      "execution_count": null,
      "id": "c5b8c6da-1ebb-44f4-a41a-01e445bd6330",
      "metadata": {
        "id": "c5b8c6da-1ebb-44f4-a41a-01e445bd6330"
      },
      "outputs": [],
      "source": []
    }
  ],
  "metadata": {
    "kernelspec": {
      "display_name": "Python 3 (ipykernel)",
      "language": "python",
      "name": "python3"
    },
    "language_info": {
      "codemirror_mode": {
        "name": "ipython",
        "version": 3
      },
      "file_extension": ".py",
      "mimetype": "text/x-python",
      "name": "python",
      "nbconvert_exporter": "python",
      "pygments_lexer": "ipython3",
      "version": "3.11.7"
    },
    "colab": {
      "provenance": []
    }
  },
  "nbformat": 4,
  "nbformat_minor": 5
}