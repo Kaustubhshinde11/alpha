{
 "cells": [
  {
   "cell_type": "code",
   "execution_count": 29,
   "id": "8bbfba8a-aaa2-458f-85b2-8fdc634d789c",
   "metadata": {},
   "outputs": [
    {
     "name": "stdout",
     "output_type": "stream",
     "text": [
      "0.7142857142857143\n",
      "[[136  51]\n",
      " [ 15  29]]\n",
      "0.3625\n",
      "0.6590909090909091\n"
     ]
    }
   ],
   "source": [
    "import pandas as pd\n",
    "\n",
    "import numpy as np\n",
    "\n",
    "df = pd.read_csv(\"/Users/kaustubhshinde/Downloads/diabetes.csv\")\n",
    "\n",
    "df\n",
    "\n",
    "df.dtypes\n",
    "\n",
    "df.dropna(axis = 0, inplace = True)\n",
    "\n",
    "x = df.drop(columns = [\"Outcome\"])\n",
    "\n",
    "y = df[\"Outcome\"]\n",
    "\n",
    "from sklearn.model_selection import train_test_split\n",
    "\n",
    "x_train, x_test, y_train, y_test = train_test_split(x, y, test_size = 0.3, random_state = 42)\n",
    "\n",
    "from sklearn.neighbors import KNeighborsClassifier\n",
    "\n",
    "KNN = KNeighborsClassifier(n_neighbors = 100)\n",
    "\n",
    "KNN.fit(x_train, y_train)\n",
    "\n",
    "y_pred = KNN.predict(x_test)\n",
    "\n",
    "from sklearn.metrics import confusion_matrix,accuracy_score\n",
    "\n",
    "acc=accuracy_score ( y_pred, y_test)\n",
    "\n",
    "print (acc)\n",
    "\n",
    "cm = confusion_matrix(y_pred,y_test)\n",
    "print(cm)\n",
    "\n",
    "error_rate = 1-acc\n",
    "\n",
    "from sklearn.metrics import precision_score,recall_score\n",
    "\n",
    "prec = precision_score(y_pred,y_test)\n",
    "\n",
    "rec = recall_score(y_pred,y_test)\n",
    "\n",
    "print (prec)\n",
    "print (rec)\n",
    "\n"
   ]
  },
  {
   "cell_type": "code",
   "execution_count": null,
   "id": "773f2506-3725-4e7d-9d9d-7409f9c5a65e",
   "metadata": {},
   "outputs": [],
   "source": []
  }
 ],
 "metadata": {
  "kernelspec": {
   "display_name": "Python 3 (ipykernel)",
   "language": "python",
   "name": "python3"
  },
  "language_info": {
   "codemirror_mode": {
    "name": "ipython",
    "version": 3
   },
   "file_extension": ".py",
   "mimetype": "text/x-python",
   "name": "python",
   "nbconvert_exporter": "python",
   "pygments_lexer": "ipython3",
   "version": "3.12.6"
  }
 },
 "nbformat": 4,
 "nbformat_minor": 5
}
