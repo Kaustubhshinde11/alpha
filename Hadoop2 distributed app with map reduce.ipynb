{
  "nbformat": 4,
  "nbformat_minor": 0,
  "metadata": {
    "colab": {
      "provenance": []
    },
    "kernelspec": {
      "name": "python3",
      "display_name": "Python 3"
    },
    "language_info": {
      "name": "python"
    }
  },
  "cells": [
    {
      "cell_type": "code",
      "source": [
        "!pip install pyspark"
      ],
      "metadata": {
        "colab": {
          "base_uri": "https://localhost:8080/"
        },
        "id": "P7sUT-9oRODq",
        "outputId": "f5539ef5-1cc3-4c55-9414-3f065a0625e6"
      },
      "execution_count": 2,
      "outputs": [
        {
          "output_type": "stream",
          "name": "stdout",
          "text": [
            "Collecting pyspark\n",
            "  Downloading pyspark-3.5.1.tar.gz (317.0 MB)\n",
            "\u001b[2K     \u001b[90m━━━━━━━━━━━━━━━━━━━━━━━━━━━━━━━━━━━━━━━━\u001b[0m \u001b[32m317.0/317.0 MB\u001b[0m \u001b[31m3.6 MB/s\u001b[0m eta \u001b[36m0:00:00\u001b[0m\n",
            "\u001b[?25h  Preparing metadata (setup.py) ... \u001b[?25l\u001b[?25hdone\n",
            "Requirement already satisfied: py4j==0.10.9.7 in /usr/local/lib/python3.10/dist-packages (from pyspark) (0.10.9.7)\n",
            "Building wheels for collected packages: pyspark\n",
            "  Building wheel for pyspark (setup.py) ... \u001b[?25l\u001b[?25hdone\n",
            "  Created wheel for pyspark: filename=pyspark-3.5.1-py2.py3-none-any.whl size=317488491 sha256=531556dbeb388612a2867e8bf1ec24d5cf26f229cac1783d29216556833d0876\n",
            "  Stored in directory: /root/.cache/pip/wheels/80/1d/60/2c256ed38dddce2fdd93be545214a63e02fbd8d74fb0b7f3a6\n",
            "Successfully built pyspark\n",
            "Installing collected packages: pyspark\n",
            "Successfully installed pyspark-3.5.1\n"
          ]
        }
      ]
    },
    {
      "cell_type": "code",
      "execution_count": 5,
      "metadata": {
        "id": "KrzP6M2oQzbt"
      },
      "outputs": [],
      "source": [
        "from pyspark.sql import SparkSession\n",
        "spark = SparkSession.builder.appName(\"local[*]\").getOrCreate()"
      ]
    },
    {
      "cell_type": "code",
      "source": [
        "from pyspark.conf import SparkConf"
      ],
      "metadata": {
        "id": "ylGbY1ksRDjC"
      },
      "execution_count": 3,
      "outputs": []
    },
    {
      "cell_type": "code",
      "source": [
        "data = [(\"Kaustubh\", \"Anil\", \"Shinde\", 18, \"M\", 200000000),\n",
        "        (\"Kau\", \" \", \"Shinde\", 18, \"M\", 200000),\n",
        "        (\"yash\", \"Anil\", \"Shinde\", 18, \"M\", 2000000)]\n",
        "\n",
        "columns = [\"fname\", \"mname\", \"lname\", \"age\", \"gen\", \"salary\" ]\n",
        "df = spark.createDataFrame(data = data, schema = columns)\n",
        "df.printSchema()\n",
        "df.show()\n"
      ],
      "metadata": {
        "colab": {
          "base_uri": "https://localhost:8080/"
        },
        "id": "r_DKCd62RVi4",
        "outputId": "b6ba141e-bc5c-4abb-ceca-cf01a6aed4e7"
      },
      "execution_count": 6,
      "outputs": [
        {
          "output_type": "stream",
          "name": "stdout",
          "text": [
            "root\n",
            " |-- fname: string (nullable = true)\n",
            " |-- mname: string (nullable = true)\n",
            " |-- lname: string (nullable = true)\n",
            " |-- age: long (nullable = true)\n",
            " |-- gen: string (nullable = true)\n",
            " |-- salary: long (nullable = true)\n",
            "\n",
            "+--------+-----+------+---+---+---------+\n",
            "|   fname|mname| lname|age|gen|   salary|\n",
            "+--------+-----+------+---+---+---------+\n",
            "|Kaustubh| Anil|Shinde| 18|  M|200000000|\n",
            "|     Kau|     |Shinde| 18|  M|   200000|\n",
            "|    yash| Anil|Shinde| 18|  M|  2000000|\n",
            "+--------+-----+------+---+---+---------+\n",
            "\n"
          ]
        }
      ]
    },
    {
      "cell_type": "code",
      "source": [
        "rdd = spark.sparkContext.parallelize(data)"
      ],
      "metadata": {
        "id": "tTB5NyCaR_eU"
      },
      "execution_count": 7,
      "outputs": []
    },
    {
      "cell_type": "code",
      "source": [
        "rdd1  = rdd.map(lambda word: (word, 1))"
      ],
      "metadata": {
        "id": "fSVYFAGoSnSD"
      },
      "execution_count": 8,
      "outputs": []
    },
    {
      "cell_type": "code",
      "source": [
        "rdd2 = rdd1.reduceByKey(lambda a,b: a+b)"
      ],
      "metadata": {
        "id": "8vbmNMQsSs3L"
      },
      "execution_count": 9,
      "outputs": []
    },
    {
      "cell_type": "code",
      "source": [
        "output = rdd2.collect()\n",
        "output"
      ],
      "metadata": {
        "colab": {
          "base_uri": "https://localhost:8080/"
        },
        "id": "WZy0QHr8SygD",
        "outputId": "e130e7ff-c85c-4b06-fb54-6a320b84d49f"
      },
      "execution_count": 10,
      "outputs": [
        {
          "output_type": "execute_result",
          "data": {
            "text/plain": [
              "[(('Kaustubh', 'Anil', 'Shinde', 18, 'M', 200000000), 1),\n",
              " (('Kau', ' ', 'Shinde', 18, 'M', 200000), 1),\n",
              " (('yash', 'Anil', 'Shinde', 18, 'M', 2000000), 1)]"
            ]
          },
          "metadata": {},
          "execution_count": 10
        }
      ]
    },
    {
      "cell_type": "code",
      "source": [
        "from pyspark.sql.functions import mean, col, max\n",
        "df1 = df.select(mean(\"age\"), mean(\"salary\")).show()\n",
        "df.groupBy(\"gen\")\\\n",
        "  .agg(mean(\"age\"), mean(\"salary\"), max(\"salary\")).show()"
      ],
      "metadata": {
        "colab": {
          "base_uri": "https://localhost:8080/"
        },
        "id": "hy7O7cYsS2D5",
        "outputId": "13f369f3-a6fb-4426-b873-45b8ee72c8af"
      },
      "execution_count": 11,
      "outputs": [
        {
          "output_type": "stream",
          "name": "stdout",
          "text": [
            "+--------+-----------+\n",
            "|avg(age)|avg(salary)|\n",
            "+--------+-----------+\n",
            "|    18.0|     6.74E7|\n",
            "+--------+-----------+\n",
            "\n",
            "+---+--------+-----------+-----------+\n",
            "|gen|avg(age)|avg(salary)|max(salary)|\n",
            "+---+--------+-----------+-----------+\n",
            "|  M|    18.0|     6.74E7|  200000000|\n",
            "+---+--------+-----------+-----------+\n",
            "\n"
          ]
        }
      ]
    },
    {
      "cell_type": "code",
      "source": [],
      "metadata": {
        "id": "ZTvzfPLKTnVN"
      },
      "execution_count": null,
      "outputs": []
    }
  ]
}